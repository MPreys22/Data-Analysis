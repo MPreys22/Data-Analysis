{
 "cells": [
  {
   "cell_type": "markdown",
   "metadata": {},
   "source": [
    "# 1. Data Exploration"
   ]
  },
  {
   "cell_type": "markdown",
   "metadata": {},
   "source": [
    "## 1. Import Libraries"
   ]
  },
  {
   "cell_type": "code",
   "execution_count": null,
   "metadata": {},
   "outputs": [],
   "source": [
    "import pandas as pd\n",
    "import matplotlib.pyplot as plt\n",
    "import seaborn as sns"
   ]
  },
  {
   "cell_type": "markdown",
   "metadata": {},
   "source": [
    "## 2. Load The Data Set"
   ]
  },
  {
   "cell_type": "code",
   "execution_count": null,
   "metadata": {},
   "outputs": [],
   "source": [
    "df = pd.read_excel(\"data/NBA_DATA_2022-2023_2017-2018.xlsx\")"
   ]
  },
  {
   "cell_type": "markdown",
   "metadata": {},
   "source": [
    "## 3. View My Columns"
   ]
  },
  {
   "cell_type": "code",
   "execution_count": null,
   "metadata": {},
   "outputs": [],
   "source": [
    "df.columns"
   ]
  },
  {
   "cell_type": "markdown",
   "metadata": {},
   "source": [
    "Column Description:\n",
    "- Tm: Team\n",
    "- G: Games Played\n",
    "- GS: Games Started\n",
    "- MP: Minutes Played\n",
    "- FG: Field Goals Made (2 Pointers + 3 Pointers)\n",
    "- FGA: Field Goals Attempted \n",
    "- FG%: Field Goal Percentage (FG/FGA)\n",
    "- 3P: 3 Pointers Made \n",
    "- 3PA: 3 Pointers Attempted\n",
    "- 3P%: 3 Pointer Percentage (3P/3PA)\n",
    "- 2P: 2 Pointers Made \n",
    "- 2PA: 2 Pointers Attempted\n",
    "- 2P%: 2 Pointer Percentage (2P/2PA)\n",
    "- eFG%: Effective Field Goal Percentage (Meaning that the percentage takes into account that 3 pointers are worth 3 points while 2 pointers are less valuable)\n",
    "- FT: Free Throws Made \n",
    "- FTA: Free Throws Attempted \n",
    "- FT%: Free Throw Percentage (FT/FTA)\n",
    "- ORB: Rebounds While on Offense\n",
    "- DRB: Rebounds While on Defense \n",
    "- TRB: Total Rebounds (ORB + DRB)\n",
    "- AST: Assits \n",
    "- STL: Steals \n",
    "- BLK: Blocks \n",
    "- TOV: Turnovers\n",
    "- PF: Personal Fouls \n",
    "- PTS: Points Scored\n",
    "- Time: 2022-23 or 2017-18\n",
    "\n",
    "\n"
   ]
  },
  {
   "cell_type": "markdown",
   "metadata": {},
   "source": [
    "## 4. Check For Unique, Null and Duplicated Values"
   ]
  },
  {
   "cell_type": "code",
   "execution_count": null,
   "metadata": {},
   "outputs": [],
   "source": [
    "# Find the null values for each column\n",
    "df.isna().sum()\n",
    "\n",
    "# Find the unique values for these two as they have null values I am loking to replace\n",
    "df['birth_city'].unique()\n",
    "df['birth_state'].unique()\n",
    "\n",
    "# Check For Duplicates only for Players to make sure a player is not included twice\n",
    "df.duplicated(['NAME']).sum()\n",
    "df.loc[df.duplicated('NAME', keep=False)].sort_values(['Time'])\n"
   ]
  },
  {
   "cell_type": "markdown",
   "metadata": {},
   "source": [
    "- When taking a look at the different null values, the null values fall under only percentage based statistics, colleges, birth_cities, and birth_states. For percentage based statistics, a good assumption would be that it comes from trying to avoid a ZeroDivisionError: If a player was to take no shots, then the divisor will be zero which would result in a ZeroDivisionError.\n",
    "\n",
    "- Though birth state and city are 5% null, those are easily findable values that I can change\n",
    "\n",
    "- For College, it is over 10% null so I will drop that column \n",
    "\n",
    "- I did not bother looking for duplicates in this set as players can have the same stats or be from the same city "
   ]
  },
  {
   "cell_type": "markdown",
   "metadata": {},
   "source": [
    "# 2. Data Cleaning "
   ]
  },
  {
   "cell_type": "markdown",
   "metadata": {},
   "source": [
    "## 1. Drop Unecessary Columns, Query Data For Specific Range, and Drop Duplicates"
   ]
  },
  {
   "cell_type": "code",
   "execution_count": null,
   "metadata": {},
   "outputs": [],
   "source": [
    "# Drop the College Column\n",
    "df = df.drop(\"collage\", axis=1)\n",
    "df.columns\n",
    "\n",
    "# Query the data so I only keep the players in 2022-2023\n",
    "df1 = df.query(\"Time == '2022-2023'\")\n",
    "\n",
    "# Drop the Duplicates so that there are no repeat names in the data set  \n",
    "df1 = df1.drop_duplicates('NAME', keep=False)\n",
    "\n",
    "# Now that Duplicates are dropped and data is queryed, check for null values again\n",
    "df1.isna().sum()\n"
   ]
  },
  {
   "cell_type": "markdown",
   "metadata": {},
   "source": [
    "- Removing the duplicates and old players did me a huge favor since most of the null values came in older seasons of players that we did not need\n",
    "\n",
    "- We want to be as relevant to today as possible, so I only kept players from last years 2022-2023 season\n",
    "\n",
    "- Now I just need to replace five player's birth city and state with unknown, and replace the one players three point percentage with 0"
   ]
  },
  {
   "cell_type": "code",
   "execution_count": 154,
   "metadata": {},
   "outputs": [
    {
     "ename": "KeyError",
     "evalue": "0.427",
     "output_type": "error",
     "traceback": [
      "\u001b[0;31m---------------------------------------------------------------------------\u001b[0m",
      "\u001b[0;31mKeyError\u001b[0m                                  Traceback (most recent call last)",
      "File \u001b[0;32m~/Desktop/Menlo/Digital Projects 23-24/Data-Analysis/Data-Analysis/.venv/lib/python3.9/site-packages/pandas/core/indexes/base.py:3802\u001b[0m, in \u001b[0;36mIndex.get_loc\u001b[0;34m(self, key)\u001b[0m\n\u001b[1;32m   3801\u001b[0m \u001b[39mtry\u001b[39;00m:\n\u001b[0;32m-> 3802\u001b[0m     \u001b[39mreturn\u001b[39;00m \u001b[39mself\u001b[39;49m\u001b[39m.\u001b[39;49m_engine\u001b[39m.\u001b[39;49mget_loc(casted_key)\n\u001b[1;32m   3803\u001b[0m \u001b[39mexcept\u001b[39;00m \u001b[39mKeyError\u001b[39;00m \u001b[39mas\u001b[39;00m err:\n",
      "File \u001b[0;32mindex.pyx:153\u001b[0m, in \u001b[0;36mpandas._libs.index.IndexEngine.get_loc\u001b[0;34m()\u001b[0m\n",
      "File \u001b[0;32mindex.pyx:161\u001b[0m, in \u001b[0;36mpandas._libs.index.IndexEngine.get_loc\u001b[0;34m()\u001b[0m\n",
      "File \u001b[0;32mpandas/_libs/index_class_helper.pxi:70\u001b[0m, in \u001b[0;36mpandas._libs.index.Int64Engine._check_type\u001b[0;34m()\u001b[0m\n",
      "\u001b[0;31mKeyError\u001b[0m: 0.427",
      "\nThe above exception was the direct cause of the following exception:\n",
      "\u001b[0;31mKeyError\u001b[0m                                  Traceback (most recent call last)",
      "\u001b[1;32m/Users/mikemulla22/Desktop/Menlo/Digital Projects 23-24/Data-Analysis/Data-Analysis/dataanalysis.ipynb Cell 16\u001b[0m line \u001b[0;36m7\n\u001b[1;32m      <a href='vscode-notebook-cell:/Users/mikemulla22/Desktop/Menlo/Digital%20Projects%2023-24/Data-Analysis/Data-Analysis/dataanalysis.ipynb#X21sZmlsZQ%3D%3D?line=3'>4</a>\u001b[0m             \u001b[39mreturn\u001b[39;00m \u001b[39m0\u001b[39m\n\u001b[1;32m      <a href='vscode-notebook-cell:/Users/mikemulla22/Desktop/Menlo/Digital%20Projects%2023-24/Data-Analysis/Data-Analysis/dataanalysis.ipynb#X21sZmlsZQ%3D%3D?line=4'>5</a>\u001b[0m     \u001b[39mreturn\u001b[39;00m word\n\u001b[0;32m----> <a href='vscode-notebook-cell:/Users/mikemulla22/Desktop/Menlo/Digital%20Projects%2023-24/Data-Analysis/Data-Analysis/dataanalysis.ipynb#X21sZmlsZQ%3D%3D?line=6'>7</a>\u001b[0m df[\u001b[39m'\u001b[39m\u001b[39m3P\u001b[39m\u001b[39m%\u001b[39m\u001b[39m'\u001b[39m] \u001b[39m=\u001b[39m df[\u001b[39m'\u001b[39;49m\u001b[39m3P\u001b[39;49m\u001b[39m%\u001b[39;49m\u001b[39m'\u001b[39;49m]\u001b[39m.\u001b[39;49mmap(organize_status)\n\u001b[1;32m      <a href='vscode-notebook-cell:/Users/mikemulla22/Desktop/Menlo/Digital%20Projects%2023-24/Data-Analysis/Data-Analysis/dataanalysis.ipynb#X21sZmlsZQ%3D%3D?line=8'>9</a>\u001b[0m df1[\u001b[39m'\u001b[39m\u001b[39m3P\u001b[39m\u001b[39m%\u001b[39m\u001b[39m'\u001b[39m]\u001b[39m.\u001b[39munique()\n",
      "File \u001b[0;32m~/Desktop/Menlo/Digital Projects 23-24/Data-Analysis/Data-Analysis/.venv/lib/python3.9/site-packages/pandas/core/series.py:4680\u001b[0m, in \u001b[0;36mSeries.map\u001b[0;34m(self, arg, na_action)\u001b[0m\n\u001b[1;32m   4600\u001b[0m \u001b[39mdef\u001b[39;00m \u001b[39mmap\u001b[39m(\n\u001b[1;32m   4601\u001b[0m     \u001b[39mself\u001b[39m,\n\u001b[1;32m   4602\u001b[0m     arg: Callable \u001b[39m|\u001b[39m Mapping \u001b[39m|\u001b[39m Series,\n\u001b[1;32m   4603\u001b[0m     na_action: Literal[\u001b[39m\"\u001b[39m\u001b[39mignore\u001b[39m\u001b[39m\"\u001b[39m] \u001b[39m|\u001b[39m \u001b[39mNone\u001b[39;00m \u001b[39m=\u001b[39m \u001b[39mNone\u001b[39;00m,\n\u001b[1;32m   4604\u001b[0m ) \u001b[39m-\u001b[39m\u001b[39m>\u001b[39m Series:\n\u001b[1;32m   4605\u001b[0m \u001b[39m    \u001b[39m\u001b[39m\"\"\"\u001b[39;00m\n\u001b[1;32m   4606\u001b[0m \u001b[39m    Map values of Series according to an input mapping or function.\u001b[39;00m\n\u001b[1;32m   4607\u001b[0m \n\u001b[0;32m   (...)\u001b[0m\n\u001b[1;32m   4678\u001b[0m \u001b[39m    dtype: object\u001b[39;00m\n\u001b[1;32m   4679\u001b[0m \u001b[39m    \"\"\"\u001b[39;00m\n\u001b[0;32m-> 4680\u001b[0m     new_values \u001b[39m=\u001b[39m \u001b[39mself\u001b[39;49m\u001b[39m.\u001b[39;49m_map_values(arg, na_action\u001b[39m=\u001b[39;49mna_action)\n\u001b[1;32m   4681\u001b[0m     \u001b[39mreturn\u001b[39;00m \u001b[39mself\u001b[39m\u001b[39m.\u001b[39m_constructor(new_values, index\u001b[39m=\u001b[39m\u001b[39mself\u001b[39m\u001b[39m.\u001b[39mindex, copy\u001b[39m=\u001b[39m\u001b[39mFalse\u001b[39;00m)\u001b[39m.\u001b[39m__finalize__(\n\u001b[1;32m   4682\u001b[0m         \u001b[39mself\u001b[39m, method\u001b[39m=\u001b[39m\u001b[39m\"\u001b[39m\u001b[39mmap\u001b[39m\u001b[39m\"\u001b[39m\n\u001b[1;32m   4683\u001b[0m     )\n",
      "File \u001b[0;32m~/Desktop/Menlo/Digital Projects 23-24/Data-Analysis/Data-Analysis/.venv/lib/python3.9/site-packages/pandas/core/base.py:921\u001b[0m, in \u001b[0;36mIndexOpsMixin._map_values\u001b[0;34m(self, mapper, na_action, convert)\u001b[0m\n\u001b[1;32m    918\u001b[0m \u001b[39mif\u001b[39;00m \u001b[39misinstance\u001b[39m(arr, ExtensionArray):\n\u001b[1;32m    919\u001b[0m     \u001b[39mreturn\u001b[39;00m arr\u001b[39m.\u001b[39mmap(mapper, na_action\u001b[39m=\u001b[39mna_action)\n\u001b[0;32m--> 921\u001b[0m \u001b[39mreturn\u001b[39;00m algorithms\u001b[39m.\u001b[39;49mmap_array(arr, mapper, na_action\u001b[39m=\u001b[39;49mna_action, convert\u001b[39m=\u001b[39;49mconvert)\n",
      "File \u001b[0;32m~/Desktop/Menlo/Digital Projects 23-24/Data-Analysis/Data-Analysis/.venv/lib/python3.9/site-packages/pandas/core/algorithms.py:1743\u001b[0m, in \u001b[0;36mmap_array\u001b[0;34m(arr, mapper, na_action, convert)\u001b[0m\n\u001b[1;32m   1741\u001b[0m values \u001b[39m=\u001b[39m arr\u001b[39m.\u001b[39mastype(\u001b[39mobject\u001b[39m, copy\u001b[39m=\u001b[39m\u001b[39mFalse\u001b[39;00m)\n\u001b[1;32m   1742\u001b[0m \u001b[39mif\u001b[39;00m na_action \u001b[39mis\u001b[39;00m \u001b[39mNone\u001b[39;00m:\n\u001b[0;32m-> 1743\u001b[0m     \u001b[39mreturn\u001b[39;00m lib\u001b[39m.\u001b[39;49mmap_infer(values, mapper, convert\u001b[39m=\u001b[39;49mconvert)\n\u001b[1;32m   1744\u001b[0m \u001b[39melse\u001b[39;00m:\n\u001b[1;32m   1745\u001b[0m     \u001b[39mreturn\u001b[39;00m lib\u001b[39m.\u001b[39mmap_infer_mask(\n\u001b[1;32m   1746\u001b[0m         values, mapper, mask\u001b[39m=\u001b[39misna(values)\u001b[39m.\u001b[39mview(np\u001b[39m.\u001b[39muint8), convert\u001b[39m=\u001b[39mconvert\n\u001b[1;32m   1747\u001b[0m     )\n",
      "File \u001b[0;32mlib.pyx:2972\u001b[0m, in \u001b[0;36mpandas._libs.lib.map_infer\u001b[0;34m()\u001b[0m\n",
      "\u001b[1;32m/Users/mikemulla22/Desktop/Menlo/Digital Projects 23-24/Data-Analysis/Data-Analysis/dataanalysis.ipynb Cell 16\u001b[0m line \u001b[0;36m3\n\u001b[1;32m      <a href='vscode-notebook-cell:/Users/mikemulla22/Desktop/Menlo/Digital%20Projects%2023-24/Data-Analysis/Data-Analysis/dataanalysis.ipynb#X21sZmlsZQ%3D%3D?line=0'>1</a>\u001b[0m \u001b[39mdef\u001b[39;00m \u001b[39morganize_status\u001b[39m(word):\n\u001b[1;32m      <a href='vscode-notebook-cell:/Users/mikemulla22/Desktop/Menlo/Digital%20Projects%2023-24/Data-Analysis/Data-Analysis/dataanalysis.ipynb#X21sZmlsZQ%3D%3D?line=1'>2</a>\u001b[0m     \u001b[39mfor\u001b[39;00m key \u001b[39min\u001b[39;00m df1[\u001b[39m'\u001b[39m\u001b[39m3P\u001b[39m\u001b[39m%\u001b[39m\u001b[39m'\u001b[39m]:\n\u001b[0;32m----> <a href='vscode-notebook-cell:/Users/mikemulla22/Desktop/Menlo/Digital%20Projects%2023-24/Data-Analysis/Data-Analysis/dataanalysis.ipynb#X21sZmlsZQ%3D%3D?line=2'>3</a>\u001b[0m         \u001b[39mif\u001b[39;00m word \u001b[39min\u001b[39;00m df1[\u001b[39m'\u001b[39;49m\u001b[39m3P\u001b[39;49m\u001b[39m%\u001b[39;49m\u001b[39m'\u001b[39;49m][key]:\n\u001b[1;32m      <a href='vscode-notebook-cell:/Users/mikemulla22/Desktop/Menlo/Digital%20Projects%2023-24/Data-Analysis/Data-Analysis/dataanalysis.ipynb#X21sZmlsZQ%3D%3D?line=3'>4</a>\u001b[0m             \u001b[39mreturn\u001b[39;00m \u001b[39m0\u001b[39m\n\u001b[1;32m      <a href='vscode-notebook-cell:/Users/mikemulla22/Desktop/Menlo/Digital%20Projects%2023-24/Data-Analysis/Data-Analysis/dataanalysis.ipynb#X21sZmlsZQ%3D%3D?line=4'>5</a>\u001b[0m     \u001b[39mreturn\u001b[39;00m word\n",
      "File \u001b[0;32m~/Desktop/Menlo/Digital Projects 23-24/Data-Analysis/Data-Analysis/.venv/lib/python3.9/site-packages/pandas/core/series.py:1111\u001b[0m, in \u001b[0;36mSeries.__getitem__\u001b[0;34m(self, key)\u001b[0m\n\u001b[1;32m   1108\u001b[0m     \u001b[39mreturn\u001b[39;00m \u001b[39mself\u001b[39m\u001b[39m.\u001b[39m_values[key]\n\u001b[1;32m   1110\u001b[0m \u001b[39melif\u001b[39;00m key_is_scalar:\n\u001b[0;32m-> 1111\u001b[0m     \u001b[39mreturn\u001b[39;00m \u001b[39mself\u001b[39;49m\u001b[39m.\u001b[39;49m_get_value(key)\n\u001b[1;32m   1113\u001b[0m \u001b[39m# Convert generator to list before going through hashable part\u001b[39;00m\n\u001b[1;32m   1114\u001b[0m \u001b[39m# (We will iterate through the generator there to check for slices)\u001b[39;00m\n\u001b[1;32m   1115\u001b[0m \u001b[39mif\u001b[39;00m is_iterator(key):\n",
      "File \u001b[0;32m~/Desktop/Menlo/Digital Projects 23-24/Data-Analysis/Data-Analysis/.venv/lib/python3.9/site-packages/pandas/core/series.py:1227\u001b[0m, in \u001b[0;36mSeries._get_value\u001b[0;34m(self, label, takeable)\u001b[0m\n\u001b[1;32m   1224\u001b[0m     \u001b[39mreturn\u001b[39;00m \u001b[39mself\u001b[39m\u001b[39m.\u001b[39m_values[label]\n\u001b[1;32m   1226\u001b[0m \u001b[39m# Similar to Index.get_value, but we do not fall back to positional\u001b[39;00m\n\u001b[0;32m-> 1227\u001b[0m loc \u001b[39m=\u001b[39m \u001b[39mself\u001b[39;49m\u001b[39m.\u001b[39;49mindex\u001b[39m.\u001b[39;49mget_loc(label)\n\u001b[1;32m   1229\u001b[0m \u001b[39mif\u001b[39;00m is_integer(loc):\n\u001b[1;32m   1230\u001b[0m     \u001b[39mreturn\u001b[39;00m \u001b[39mself\u001b[39m\u001b[39m.\u001b[39m_values[loc]\n",
      "File \u001b[0;32m~/Desktop/Menlo/Digital Projects 23-24/Data-Analysis/Data-Analysis/.venv/lib/python3.9/site-packages/pandas/core/indexes/base.py:3809\u001b[0m, in \u001b[0;36mIndex.get_loc\u001b[0;34m(self, key)\u001b[0m\n\u001b[1;32m   3804\u001b[0m     \u001b[39mif\u001b[39;00m \u001b[39misinstance\u001b[39m(casted_key, \u001b[39mslice\u001b[39m) \u001b[39mor\u001b[39;00m (\n\u001b[1;32m   3805\u001b[0m         \u001b[39misinstance\u001b[39m(casted_key, abc\u001b[39m.\u001b[39mIterable)\n\u001b[1;32m   3806\u001b[0m         \u001b[39mand\u001b[39;00m \u001b[39many\u001b[39m(\u001b[39misinstance\u001b[39m(x, \u001b[39mslice\u001b[39m) \u001b[39mfor\u001b[39;00m x \u001b[39min\u001b[39;00m casted_key)\n\u001b[1;32m   3807\u001b[0m     ):\n\u001b[1;32m   3808\u001b[0m         \u001b[39mraise\u001b[39;00m InvalidIndexError(key)\n\u001b[0;32m-> 3809\u001b[0m     \u001b[39mraise\u001b[39;00m \u001b[39mKeyError\u001b[39;00m(key) \u001b[39mfrom\u001b[39;00m \u001b[39merr\u001b[39;00m\n\u001b[1;32m   3810\u001b[0m \u001b[39mexcept\u001b[39;00m \u001b[39mTypeError\u001b[39;00m:\n\u001b[1;32m   3811\u001b[0m     \u001b[39m# If we have a listlike key, _check_indexing_error will raise\u001b[39;00m\n\u001b[1;32m   3812\u001b[0m     \u001b[39m#  InvalidIndexError. Otherwise we fall through and re-raise\u001b[39;00m\n\u001b[1;32m   3813\u001b[0m     \u001b[39m#  the TypeError.\u001b[39;00m\n\u001b[1;32m   3814\u001b[0m     \u001b[39mself\u001b[39m\u001b[39m.\u001b[39m_check_indexing_error(key)\n",
      "\u001b[0;31mKeyError\u001b[0m: 0.427"
     ]
    }
   ],
   "source": [
    "def organize_status(word):\n",
    "    for key in df1['3P%']:\n",
    "        if word in df1['3P%'][key]:\n",
    "            return 0\n",
    "    return word\n",
    "\n",
    "df['3P%'] = df['3P%'].map(organize_status)\n",
    "\n",
    "df1['3P%'].unique()\n"
   ]
  },
  {
   "cell_type": "markdown",
   "metadata": {},
   "source": [
    "# 3. Exploratory Data Analysis"
   ]
  },
  {
   "cell_type": "code",
   "execution_count": null,
   "metadata": {},
   "outputs": [],
   "source": [
    "plt.title(\"Salary vs FG\")\n",
    "\n",
    "sns.scatterplot(data=df, x='SALARY', y='FG')"
   ]
  }
 ],
 "metadata": {
  "kernelspec": {
   "display_name": ".venv",
   "language": "python",
   "name": "python3"
  },
  "language_info": {
   "codemirror_mode": {
    "name": "ipython",
    "version": 3
   },
   "file_extension": ".py",
   "mimetype": "text/x-python",
   "name": "python",
   "nbconvert_exporter": "python",
   "pygments_lexer": "ipython3",
   "version": "3.9.6"
  },
  "orig_nbformat": 4
 },
 "nbformat": 4,
 "nbformat_minor": 2
}
