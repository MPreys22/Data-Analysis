{
 "cells": [
  {
   "cell_type": "markdown",
   "metadata": {},
   "source": [
    "# 1. Data Exploration"
   ]
  },
  {
   "cell_type": "markdown",
   "metadata": {},
   "source": [
    "## 1. Import Libraries"
   ]
  },
  {
   "cell_type": "code",
   "execution_count": 29,
   "metadata": {},
   "outputs": [],
   "source": [
    "import pandas as pd\n",
    "import matplotlib.pyplot as plt\n",
    "import seaborn as sns"
   ]
  },
  {
   "cell_type": "markdown",
   "metadata": {},
   "source": [
    "## 2. Load The Data Set"
   ]
  },
  {
   "cell_type": "code",
   "execution_count": 30,
   "metadata": {},
   "outputs": [],
   "source": [
    "df = pd.read_excel(\"data/NBA_DATA_2022-2023_2017-2018.xlsx\")"
   ]
  },
  {
   "cell_type": "markdown",
   "metadata": {},
   "source": [
    "## 3. View My Columns"
   ]
  },
  {
   "cell_type": "code",
   "execution_count": 31,
   "metadata": {},
   "outputs": [
    {
     "data": {
      "text/plain": [
       "Index(['NAME', 'TEAM', 'POSITION', 'SALARY', 'Age', 'Tm', 'G', 'GS', 'MP',\n",
       "       'FG', 'FGA', 'FG%', '3P', '3PA', '3P%', '2P', '2PA', '2P%', 'eFG%',\n",
       "       'FT', 'FTA', 'FT%', 'ORB', 'DRB', 'TRB', 'AST', 'STL', 'BLK', 'TOV',\n",
       "       'PF', 'PTS', 'height', 'weight', 'collage', 'birth_city', 'birth_state',\n",
       "       'Time'],\n",
       "      dtype='object')"
      ]
     },
     "execution_count": 31,
     "metadata": {},
     "output_type": "execute_result"
    }
   ],
   "source": [
    "df.columns"
   ]
  },
  {
   "cell_type": "markdown",
   "metadata": {},
   "source": [
    "Column Description:\n",
    "- Tm: Team\n",
    "- G: Games Played\n",
    "- GS: Games Started\n",
    "- MP: Minutes Played\n",
    "- FG: Field Goals Made (2 Pointers + 3 Pointers)\n",
    "- FGA: Field Goals Attempted \n",
    "- FG%: Field Goal Percentage (FG/FGA)\n",
    "- 3P: 3 Pointers Made \n",
    "- 3PA: 3 Pointers Attempted\n",
    "- 3P%: 3 Pointer Percentage (3P/3PA)\n",
    "- 2P: 2 Pointers Made \n",
    "- 2PA: 2 Pointers Attempted\n",
    "- 2P%: 2 Pointer Percentage (2P/2PA)\n",
    "- eFG%: Effective Field Goal Percentage (Meaning that the percentage takes into account that 3 pointers are worth 3 points while 2 pointers are less valuable)\n",
    "- FT: Free Throws Made \n",
    "- FTA: Free Throws Attempted \n",
    "- FT%: Free Throw Percentage (FT/FTA)\n",
    "- ORB: Rebounds While on Offense\n",
    "- DRB: Rebounds While on Defense \n",
    "- TRB: Total Rebounds (ORB + DRB)\n",
    "- AST: Assits \n",
    "- STL: Steals \n",
    "- BLK: Blocks \n",
    "- TOV: Turnovers\n",
    "- PF: Personal Fouls \n",
    "- PTS: Points Scored\n",
    "- Time: 2022-23 or 2017-18\n",
    "\n",
    "\n"
   ]
  },
  {
   "cell_type": "markdown",
   "metadata": {},
   "source": [
    "## 4. Check For Unique, Null and Duplicated Values"
   ]
  },
  {
   "cell_type": "code",
   "execution_count": 32,
   "metadata": {},
   "outputs": [
    {
     "data": {
      "text/html": [
       "<div>\n",
       "<style scoped>\n",
       "    .dataframe tbody tr th:only-of-type {\n",
       "        vertical-align: middle;\n",
       "    }\n",
       "\n",
       "    .dataframe tbody tr th {\n",
       "        vertical-align: top;\n",
       "    }\n",
       "\n",
       "    .dataframe thead th {\n",
       "        text-align: right;\n",
       "    }\n",
       "</style>\n",
       "<table border=\"1\" class=\"dataframe\">\n",
       "  <thead>\n",
       "    <tr style=\"text-align: right;\">\n",
       "      <th></th>\n",
       "      <th>NAME</th>\n",
       "      <th>TEAM</th>\n",
       "      <th>POSITION</th>\n",
       "      <th>SALARY</th>\n",
       "      <th>Age</th>\n",
       "      <th>Tm</th>\n",
       "      <th>G</th>\n",
       "      <th>GS</th>\n",
       "      <th>MP</th>\n",
       "      <th>FG</th>\n",
       "      <th>...</th>\n",
       "      <th>BLK</th>\n",
       "      <th>TOV</th>\n",
       "      <th>PF</th>\n",
       "      <th>PTS</th>\n",
       "      <th>height</th>\n",
       "      <th>weight</th>\n",
       "      <th>collage</th>\n",
       "      <th>birth_city</th>\n",
       "      <th>birth_state</th>\n",
       "      <th>Time</th>\n",
       "    </tr>\n",
       "  </thead>\n",
       "  <tbody>\n",
       "    <tr>\n",
       "      <th>177</th>\n",
       "      <td>Al Horford</td>\n",
       "      <td>Boston Celtics</td>\n",
       "      <td>C</td>\n",
       "      <td>27734406</td>\n",
       "      <td>31</td>\n",
       "      <td>BOS</td>\n",
       "      <td>72</td>\n",
       "      <td>72</td>\n",
       "      <td>31.6</td>\n",
       "      <td>5.1</td>\n",
       "      <td>...</td>\n",
       "      <td>1.1</td>\n",
       "      <td>1.8</td>\n",
       "      <td>1.9</td>\n",
       "      <td>12.9</td>\n",
       "      <td>208</td>\n",
       "      <td>111</td>\n",
       "      <td>University of Florida</td>\n",
       "      <td>Puerto Plata</td>\n",
       "      <td>Dominican Republic</td>\n",
       "      <td>2017-2018</td>\n",
       "    </tr>\n",
       "    <tr>\n",
       "      <th>280</th>\n",
       "      <td>Dwight Powell</td>\n",
       "      <td>Dallas Mavericks</td>\n",
       "      <td>C</td>\n",
       "      <td>9003125</td>\n",
       "      <td>26</td>\n",
       "      <td>DAL</td>\n",
       "      <td>79</td>\n",
       "      <td>25</td>\n",
       "      <td>21.2</td>\n",
       "      <td>3.2</td>\n",
       "      <td>...</td>\n",
       "      <td>0.4</td>\n",
       "      <td>0.7</td>\n",
       "      <td>2.4</td>\n",
       "      <td>8.5</td>\n",
       "      <td>211</td>\n",
       "      <td>108</td>\n",
       "      <td>Stanford University</td>\n",
       "      <td>Toronto</td>\n",
       "      <td>Canada</td>\n",
       "      <td>2017-2018</td>\n",
       "    </tr>\n",
       "    <tr>\n",
       "      <th>278</th>\n",
       "      <td>Norman Powell</td>\n",
       "      <td>Toronto Raptors</td>\n",
       "      <td>G</td>\n",
       "      <td>9367200</td>\n",
       "      <td>24</td>\n",
       "      <td>TOR</td>\n",
       "      <td>70</td>\n",
       "      <td>18</td>\n",
       "      <td>15.2</td>\n",
       "      <td>2.1</td>\n",
       "      <td>...</td>\n",
       "      <td>0.2</td>\n",
       "      <td>0.9</td>\n",
       "      <td>1.6</td>\n",
       "      <td>5.5</td>\n",
       "      <td>193</td>\n",
       "      <td>97</td>\n",
       "      <td>University of California, Los Angeles</td>\n",
       "      <td>San Diego</td>\n",
       "      <td>California</td>\n",
       "      <td>2017-2018</td>\n",
       "    </tr>\n",
       "    <tr>\n",
       "      <th>277</th>\n",
       "      <td>Josh Richardson</td>\n",
       "      <td>Miami Heat</td>\n",
       "      <td>SG</td>\n",
       "      <td>9367200</td>\n",
       "      <td>24</td>\n",
       "      <td>MIA</td>\n",
       "      <td>81</td>\n",
       "      <td>81</td>\n",
       "      <td>33.2</td>\n",
       "      <td>4.9</td>\n",
       "      <td>...</td>\n",
       "      <td>0.9</td>\n",
       "      <td>1.7</td>\n",
       "      <td>2.5</td>\n",
       "      <td>12.9</td>\n",
       "      <td>198</td>\n",
       "      <td>90</td>\n",
       "      <td>University of Tennessee</td>\n",
       "      <td>Edmond</td>\n",
       "      <td>Oklahoma</td>\n",
       "      <td>2017-2018</td>\n",
       "    </tr>\n",
       "    <tr>\n",
       "      <th>276</th>\n",
       "      <td>Matthew Dellavedova</td>\n",
       "      <td>Milwaukee Bucks</td>\n",
       "      <td>PG</td>\n",
       "      <td>9607500</td>\n",
       "      <td>27</td>\n",
       "      <td>MIL</td>\n",
       "      <td>38</td>\n",
       "      <td>3</td>\n",
       "      <td>18.7</td>\n",
       "      <td>1.4</td>\n",
       "      <td>...</td>\n",
       "      <td>0.0</td>\n",
       "      <td>1.3</td>\n",
       "      <td>1.8</td>\n",
       "      <td>4.3</td>\n",
       "      <td>193</td>\n",
       "      <td>89</td>\n",
       "      <td>Saint Mary's College of California</td>\n",
       "      <td>Maryborough</td>\n",
       "      <td>Australia</td>\n",
       "      <td>2017-2018</td>\n",
       "    </tr>\n",
       "    <tr>\n",
       "      <th>...</th>\n",
       "      <td>...</td>\n",
       "      <td>...</td>\n",
       "      <td>...</td>\n",
       "      <td>...</td>\n",
       "      <td>...</td>\n",
       "      <td>...</td>\n",
       "      <td>...</td>\n",
       "      <td>...</td>\n",
       "      <td>...</td>\n",
       "      <td>...</td>\n",
       "      <td>...</td>\n",
       "      <td>...</td>\n",
       "      <td>...</td>\n",
       "      <td>...</td>\n",
       "      <td>...</td>\n",
       "      <td>...</td>\n",
       "      <td>...</td>\n",
       "      <td>...</td>\n",
       "      <td>...</td>\n",
       "      <td>...</td>\n",
       "      <td>...</td>\n",
       "    </tr>\n",
       "    <tr>\n",
       "      <th>110</th>\n",
       "      <td>Mike Muscala</td>\n",
       "      <td>Boston Celtics</td>\n",
       "      <td>C</td>\n",
       "      <td>3500000</td>\n",
       "      <td>31</td>\n",
       "      <td>OKC</td>\n",
       "      <td>43</td>\n",
       "      <td>5</td>\n",
       "      <td>14.5</td>\n",
       "      <td>2.1</td>\n",
       "      <td>...</td>\n",
       "      <td>0.4</td>\n",
       "      <td>0.3</td>\n",
       "      <td>1.6</td>\n",
       "      <td>6.2</td>\n",
       "      <td>211</td>\n",
       "      <td>108</td>\n",
       "      <td>Bucknell University</td>\n",
       "      <td>St. Louis Park</td>\n",
       "      <td>Minnesota</td>\n",
       "      <td>2022-2023</td>\n",
       "    </tr>\n",
       "    <tr>\n",
       "      <th>109</th>\n",
       "      <td>Alex Len</td>\n",
       "      <td>Sacramento Kings</td>\n",
       "      <td>C</td>\n",
       "      <td>3918000</td>\n",
       "      <td>29</td>\n",
       "      <td>SAC</td>\n",
       "      <td>26</td>\n",
       "      <td>2</td>\n",
       "      <td>6.2</td>\n",
       "      <td>0.6</td>\n",
       "      <td>...</td>\n",
       "      <td>0.4</td>\n",
       "      <td>0.6</td>\n",
       "      <td>1.1</td>\n",
       "      <td>1.7</td>\n",
       "      <td>216</td>\n",
       "      <td>117</td>\n",
       "      <td>University of Maryland</td>\n",
       "      <td>Antratsit</td>\n",
       "      <td>Ukraine</td>\n",
       "      <td>2022-2023</td>\n",
       "    </tr>\n",
       "    <tr>\n",
       "      <th>108</th>\n",
       "      <td>George Hill</td>\n",
       "      <td>Indiana Pacers</td>\n",
       "      <td>PG</td>\n",
       "      <td>4000000</td>\n",
       "      <td>36</td>\n",
       "      <td>IND</td>\n",
       "      <td>11</td>\n",
       "      <td>1</td>\n",
       "      <td>15.1</td>\n",
       "      <td>1.7</td>\n",
       "      <td>...</td>\n",
       "      <td>0.3</td>\n",
       "      <td>0.6</td>\n",
       "      <td>1.3</td>\n",
       "      <td>5.2</td>\n",
       "      <td>190</td>\n",
       "      <td>85</td>\n",
       "      <td>Indiana University-Purdue University Indianapolis</td>\n",
       "      <td>Indianapolis</td>\n",
       "      <td>Indiana</td>\n",
       "      <td>2022-2023</td>\n",
       "    </tr>\n",
       "    <tr>\n",
       "      <th>116</th>\n",
       "      <td>Trey Lyles</td>\n",
       "      <td>Sacramento Kings</td>\n",
       "      <td>PF</td>\n",
       "      <td>2700000</td>\n",
       "      <td>27</td>\n",
       "      <td>SAC</td>\n",
       "      <td>74</td>\n",
       "      <td>0</td>\n",
       "      <td>16.9</td>\n",
       "      <td>2.5</td>\n",
       "      <td>...</td>\n",
       "      <td>0.4</td>\n",
       "      <td>0.9</td>\n",
       "      <td>1.3</td>\n",
       "      <td>7.6</td>\n",
       "      <td>208</td>\n",
       "      <td>106</td>\n",
       "      <td>University of Kentucky</td>\n",
       "      <td>Saskatoon</td>\n",
       "      <td>Canada</td>\n",
       "      <td>2022-2023</td>\n",
       "    </tr>\n",
       "    <tr>\n",
       "      <th>0</th>\n",
       "      <td>Stephen Curry</td>\n",
       "      <td>Golden State Warriors</td>\n",
       "      <td>PG</td>\n",
       "      <td>48070014</td>\n",
       "      <td>34</td>\n",
       "      <td>GSW</td>\n",
       "      <td>56</td>\n",
       "      <td>56</td>\n",
       "      <td>34.7</td>\n",
       "      <td>10.0</td>\n",
       "      <td>...</td>\n",
       "      <td>0.4</td>\n",
       "      <td>3.2</td>\n",
       "      <td>2.1</td>\n",
       "      <td>29.4</td>\n",
       "      <td>190</td>\n",
       "      <td>86</td>\n",
       "      <td>Davidson College</td>\n",
       "      <td>Akron</td>\n",
       "      <td>Ohio</td>\n",
       "      <td>2022-2023</td>\n",
       "    </tr>\n",
       "  </tbody>\n",
       "</table>\n",
       "<p>324 rows × 37 columns</p>\n",
       "</div>"
      ],
      "text/plain": [
       "                    NAME                   TEAM POSITION    SALARY  Age   Tm  \\\n",
       "177           Al Horford         Boston Celtics        C  27734406   31  BOS   \n",
       "280        Dwight Powell       Dallas Mavericks        C   9003125   26  DAL   \n",
       "278        Norman Powell        Toronto Raptors        G   9367200   24  TOR   \n",
       "277      Josh Richardson             Miami Heat       SG   9367200   24  MIA   \n",
       "276  Matthew Dellavedova        Milwaukee Bucks       PG   9607500   27  MIL   \n",
       "..                   ...                    ...      ...       ...  ...  ...   \n",
       "110         Mike Muscala         Boston Celtics        C   3500000   31  OKC   \n",
       "109             Alex Len       Sacramento Kings        C   3918000   29  SAC   \n",
       "108          George Hill         Indiana Pacers       PG   4000000   36  IND   \n",
       "116           Trey Lyles       Sacramento Kings       PF   2700000   27  SAC   \n",
       "0          Stephen Curry  Golden State Warriors       PG  48070014   34  GSW   \n",
       "\n",
       "      G  GS    MP    FG  ...  BLK  TOV   PF   PTS  height  weight  \\\n",
       "177  72  72  31.6   5.1  ...  1.1  1.8  1.9  12.9     208     111   \n",
       "280  79  25  21.2   3.2  ...  0.4  0.7  2.4   8.5     211     108   \n",
       "278  70  18  15.2   2.1  ...  0.2  0.9  1.6   5.5     193      97   \n",
       "277  81  81  33.2   4.9  ...  0.9  1.7  2.5  12.9     198      90   \n",
       "276  38   3  18.7   1.4  ...  0.0  1.3  1.8   4.3     193      89   \n",
       "..   ..  ..   ...   ...  ...  ...  ...  ...   ...     ...     ...   \n",
       "110  43   5  14.5   2.1  ...  0.4  0.3  1.6   6.2     211     108   \n",
       "109  26   2   6.2   0.6  ...  0.4  0.6  1.1   1.7     216     117   \n",
       "108  11   1  15.1   1.7  ...  0.3  0.6  1.3   5.2     190      85   \n",
       "116  74   0  16.9   2.5  ...  0.4  0.9  1.3   7.6     208     106   \n",
       "0    56  56  34.7  10.0  ...  0.4  3.2  2.1  29.4     190      86   \n",
       "\n",
       "                                               collage      birth_city  \\\n",
       "177                              University of Florida    Puerto Plata   \n",
       "280                                Stanford University         Toronto   \n",
       "278              University of California, Los Angeles       San Diego   \n",
       "277                            University of Tennessee          Edmond   \n",
       "276                 Saint Mary's College of California     Maryborough   \n",
       "..                                                 ...             ...   \n",
       "110                                Bucknell University  St. Louis Park   \n",
       "109                             University of Maryland       Antratsit   \n",
       "108  Indiana University-Purdue University Indianapolis    Indianapolis   \n",
       "116                             University of Kentucky       Saskatoon   \n",
       "0                                     Davidson College           Akron   \n",
       "\n",
       "            birth_state       Time  \n",
       "177  Dominican Republic  2017-2018  \n",
       "280              Canada  2017-2018  \n",
       "278          California  2017-2018  \n",
       "277            Oklahoma  2017-2018  \n",
       "276           Australia  2017-2018  \n",
       "..                  ...        ...  \n",
       "110           Minnesota  2022-2023  \n",
       "109             Ukraine  2022-2023  \n",
       "108             Indiana  2022-2023  \n",
       "116              Canada  2022-2023  \n",
       "0                  Ohio  2022-2023  \n",
       "\n",
       "[324 rows x 37 columns]"
      ]
     },
     "execution_count": 32,
     "metadata": {},
     "output_type": "execute_result"
    }
   ],
   "source": [
    "# Find the null values for each column\n",
    "df.isna().sum()\n",
    "\n",
    "# Find the unique values for these two as they have null values I am loking to replace\n",
    "df['birth_city'].unique()\n",
    "df['birth_state'].unique()\n",
    "\n",
    "# Check For Duplicates only for Players to make sure a player is not included twice\n",
    "df.duplicated(['NAME']).sum()\n",
    "df.loc[df.duplicated('NAME', keep=False)].sort_values(['Time'])\n"
   ]
  },
  {
   "cell_type": "markdown",
   "metadata": {},
   "source": [
    "- When taking a look at the different null values, the null values fall under only percentage based statistics, colleges, birth_cities, and birth_states. For percentage based statistics, a good assumption would be that it comes from trying to avoid a ZeroDivisionError: If a player was to take no shots, then the divisor will be zero which would result in a ZeroDivisionError.\n",
    "\n",
    "- Though birth state and city are 5% null, those are easily findable values that I can change\n",
    "\n",
    "- For College, it is over 10% null so I will drop that column \n",
    "\n",
    "- I did not bother looking for duplicates in this set as players can have the same stats or be from the same city "
   ]
  },
  {
   "cell_type": "markdown",
   "metadata": {},
   "source": [
    "# 2. Data Cleaning "
   ]
  },
  {
   "cell_type": "markdown",
   "metadata": {},
   "source": [
    "## 1. Drop Unecessary Columns, Query Data For Specific Range, and Drop Duplicates"
   ]
  },
  {
   "cell_type": "code",
   "execution_count": 33,
   "metadata": {},
   "outputs": [
    {
     "data": {
      "text/plain": [
       "NAME           0\n",
       "TEAM           0\n",
       "POSITION       0\n",
       "SALARY         0\n",
       "Age            0\n",
       "Tm             0\n",
       "G              0\n",
       "GS             0\n",
       "MP             0\n",
       "FG             0\n",
       "FGA            0\n",
       "FG%            0\n",
       "3P             0\n",
       "3PA            0\n",
       "3P%            1\n",
       "2P             0\n",
       "2PA            0\n",
       "2P%            0\n",
       "eFG%           0\n",
       "FT             0\n",
       "FTA            0\n",
       "FT%            0\n",
       "ORB            0\n",
       "DRB            0\n",
       "TRB            0\n",
       "AST            0\n",
       "STL            0\n",
       "BLK            0\n",
       "TOV            0\n",
       "PF             0\n",
       "PTS            0\n",
       "height         0\n",
       "weight         0\n",
       "birth_city     5\n",
       "birth_state    5\n",
       "Time           0\n",
       "dtype: int64"
      ]
     },
     "execution_count": 33,
     "metadata": {},
     "output_type": "execute_result"
    }
   ],
   "source": [
    "# Drop the College Column\n",
    "df = df.drop(\"collage\", axis=1)\n",
    "df.columns\n",
    "\n",
    "# Query the data so I only keep the players in 2022-2023\n",
    "df1 = df.query(\"Time == '2022-2023'\")\n",
    "\n",
    "# Drop the Duplicates so that there are no repeat names in the data set  \n",
    "df1 = df1.drop_duplicates('NAME', keep=False)\n",
    "\n",
    "\n",
    "# Now that Duplicates are dropped and data is queryed, check for null values again\n",
    "df1.isna().sum()\n"
   ]
  },
  {
   "cell_type": "markdown",
   "metadata": {},
   "source": [
    "- Removing the duplicates and old players did me a huge favor since most of the null values came in older seasons of players that we did not need\n",
    "\n",
    "- We want to be as relevant to today as possible, so I only kept players from last years 2022-2023 season\n",
    "\n",
    "- Now I just need to replace five player's birth city and state with unknown, and replace the one players three point percentage with 0"
   ]
  },
  {
   "cell_type": "code",
   "execution_count": 34,
   "metadata": {},
   "outputs": [],
   "source": [
    "# Map missing values to 0\n",
    "df1[\"3P%\"] = df1[\"3P%\"].fillna(0)\n"
   ]
  },
  {
   "cell_type": "markdown",
   "metadata": {},
   "source": [
    "# 3. Exploratory Data Analysis"
   ]
  },
  {
   "cell_type": "markdown",
   "metadata": {},
   "source": [
    "## 1. Examining Salary vs FG (Shots Made) "
   ]
  },
  {
   "cell_type": "code",
   "execution_count": 35,
   "metadata": {},
   "outputs": [
    {
     "data": {
      "text/plain": [
       "<Axes: title={'center': 'Salary vs FG'}, xlabel='SALARY', ylabel='FG'>"
      ]
     },
     "execution_count": 35,
     "metadata": {},
     "output_type": "execute_result"
    },
    {
     "data": {
      "image/png": "[encoded data removed]",
      "text/plain": [
       "<Figure size 640x480 with 1 Axes>"
      ]
     },
     "metadata": {},
     "output_type": "display_data"
    }
   ],
   "source": [
    "plt.title(\"Salary vs FG\")\n",
    "\n",
    "sns.scatterplot(data=df, x='SALARY', y='FG')"
   ]
  },
  {
   "cell_type": "markdown",
   "metadata": {},
   "source": [
    "As you would expect, as a players salary increases, so does their production. The majority of the highest paid players are scoring the most points in the NBA. However, if you look left, there are some less payed players that also make field goals. A possible result of this pay gap is difference in impact on team success that the players have."
   ]
  },
  {
   "cell_type": "markdown",
   "metadata": {},
   "source": [
    "## 2. Age Variation in the NBA"
   ]
  },
  {
   "cell_type": "code",
   "execution_count": 36,
   "metadata": {},
   "outputs": [
    {
     "data": {
      "text/html": [
       "<div>\n",
       "<style scoped>\n",
       "    .dataframe tbody tr th:only-of-type {\n",
       "        vertical-align: middle;\n",
       "    }\n",
       "\n",
       "    .dataframe tbody tr th {\n",
       "        vertical-align: top;\n",
       "    }\n",
       "\n",
       "    .dataframe thead th {\n",
       "        text-align: right;\n",
       "    }\n",
       "</style>\n",
       "<table border=\"1\" class=\"dataframe\">\n",
       "  <thead>\n",
       "    <tr style=\"text-align: right;\">\n",
       "      <th></th>\n",
       "      <th>NAME</th>\n",
       "      <th>TEAM</th>\n",
       "      <th>POSITION</th>\n",
       "      <th>SALARY</th>\n",
       "      <th>Age</th>\n",
       "      <th>Tm</th>\n",
       "      <th>G</th>\n",
       "      <th>GS</th>\n",
       "      <th>MP</th>\n",
       "      <th>FG</th>\n",
       "      <th>...</th>\n",
       "      <th>STL</th>\n",
       "      <th>BLK</th>\n",
       "      <th>TOV</th>\n",
       "      <th>PF</th>\n",
       "      <th>PTS</th>\n",
       "      <th>height</th>\n",
       "      <th>weight</th>\n",
       "      <th>birth_city</th>\n",
       "      <th>birth_state</th>\n",
       "      <th>Time</th>\n",
       "    </tr>\n",
       "  </thead>\n",
       "  <tbody>\n",
       "    <tr>\n",
       "      <th>103</th>\n",
       "      <td>Johnny Davis</td>\n",
       "      <td>Washington Wizards</td>\n",
       "      <td>G</td>\n",
       "      <td>4810320</td>\n",
       "      <td>20</td>\n",
       "      <td>WAS</td>\n",
       "      <td>28</td>\n",
       "      <td>5</td>\n",
       "      <td>15.1</td>\n",
       "      <td>2.4</td>\n",
       "      <td>...</td>\n",
       "      <td>0.4</td>\n",
       "      <td>0.3</td>\n",
       "      <td>0.6</td>\n",
       "      <td>1.7</td>\n",
       "      <td>5.8</td>\n",
       "      <td>188</td>\n",
       "      <td>77</td>\n",
       "      <td>Detroit</td>\n",
       "      <td>Michigan</td>\n",
       "      <td>2022-2023</td>\n",
       "    </tr>\n",
       "  </tbody>\n",
       "</table>\n",
       "<p>1 rows × 36 columns</p>\n",
       "</div>"
      ],
      "text/plain": [
       "             NAME                TEAM POSITION   SALARY  Age   Tm   G  GS  \\\n",
       "103  Johnny Davis  Washington Wizards        G  4810320   20  WAS  28   5   \n",
       "\n",
       "       MP   FG  ...  STL  BLK  TOV   PF  PTS  height  weight  birth_city  \\\n",
       "103  15.1  2.4  ...  0.4  0.3  0.6  1.7  5.8     188      77     Detroit   \n",
       "\n",
       "     birth_state       Time  \n",
       "103     Michigan  2022-2023  \n",
       "\n",
       "[1 rows x 36 columns]"
      ]
     },
     "execution_count": 36,
     "metadata": {},
     "output_type": "execute_result"
    },
    {
     "data": {
      "image/png": "[encoded data removed]",
      "text/plain": [
       "<Figure size 640x480 with 1 Axes>"
      ]
     },
     "metadata": {},
     "output_type": "display_data"
    }
   ],
   "source": [
    "plt.title('Age Range in The NBA')\n",
    "sns.boxplot(data=df1, x='Age')\n",
    "df1.loc[df1['Age'] == df1['Age'].max()]\n",
    "df1.loc[df1['Age'] == df1['Age'].min()]\n"
   ]
  },
  {
   "cell_type": "markdown",
   "metadata": {},
   "source": [
    "As can be seen in the boxplot, the majority of NBA players are about 30 years old. There are a few outliers such as Udonis Haslem of the Miami Heat who is the oldest player in the NBA at 42 years old and LeBron James at 38 years old. Due to a lack of data on younger players coming out of the current NBA draft, the youngest player given in this boxplot was Johnny Davis of the Washington Wizards at 20 years old"
   ]
  },
  {
   "cell_type": "markdown",
   "metadata": {},
   "source": [
    "## 3. Checking the spread of Salary in the NBA "
   ]
  },
  {
   "cell_type": "code",
   "execution_count": 37,
   "metadata": {},
   "outputs": [
    {
     "data": {
      "text/html": [
       "<div>\n",
       "<style scoped>\n",
       "    .dataframe tbody tr th:only-of-type {\n",
       "        vertical-align: middle;\n",
       "    }\n",
       "\n",
       "    .dataframe tbody tr th {\n",
       "        vertical-align: top;\n",
       "    }\n",
       "\n",
       "    .dataframe thead th {\n",
       "        text-align: right;\n",
       "    }\n",
       "</style>\n",
       "<table border=\"1\" class=\"dataframe\">\n",
       "  <thead>\n",
       "    <tr style=\"text-align: right;\">\n",
       "      <th></th>\n",
       "      <th>NAME</th>\n",
       "      <th>TEAM</th>\n",
       "      <th>POSITION</th>\n",
       "      <th>SALARY</th>\n",
       "      <th>Age</th>\n",
       "      <th>Tm</th>\n",
       "      <th>G</th>\n",
       "      <th>GS</th>\n",
       "      <th>MP</th>\n",
       "      <th>FG</th>\n",
       "      <th>...</th>\n",
       "      <th>STL</th>\n",
       "      <th>BLK</th>\n",
       "      <th>TOV</th>\n",
       "      <th>PF</th>\n",
       "      <th>PTS</th>\n",
       "      <th>height</th>\n",
       "      <th>weight</th>\n",
       "      <th>birth_city</th>\n",
       "      <th>birth_state</th>\n",
       "      <th>Time</th>\n",
       "    </tr>\n",
       "  </thead>\n",
       "  <tbody>\n",
       "    <tr>\n",
       "      <th>0</th>\n",
       "      <td>Stephen Curry</td>\n",
       "      <td>Golden State Warriors</td>\n",
       "      <td>PG</td>\n",
       "      <td>48070014</td>\n",
       "      <td>34</td>\n",
       "      <td>GSW</td>\n",
       "      <td>56</td>\n",
       "      <td>56</td>\n",
       "      <td>34.7</td>\n",
       "      <td>10.0</td>\n",
       "      <td>...</td>\n",
       "      <td>0.9</td>\n",
       "      <td>0.4</td>\n",
       "      <td>3.2</td>\n",
       "      <td>2.1</td>\n",
       "      <td>29.4</td>\n",
       "      <td>190</td>\n",
       "      <td>86</td>\n",
       "      <td>Akron</td>\n",
       "      <td>Ohio</td>\n",
       "      <td>2022-2023</td>\n",
       "    </tr>\n",
       "  </tbody>\n",
       "</table>\n",
       "<p>1 rows × 36 columns</p>\n",
       "</div>"
      ],
      "text/plain": [
       "            NAME                   TEAM POSITION    SALARY  Age   Tm   G  GS  \\\n",
       "0  Stephen Curry  Golden State Warriors       PG  48070014   34  GSW  56  56   \n",
       "\n",
       "     MP    FG  ...  STL  BLK  TOV   PF   PTS  height  weight  birth_city  \\\n",
       "0  34.7  10.0  ...  0.9  0.4  3.2  2.1  29.4     190      86       Akron   \n",
       "\n",
       "   birth_state       Time  \n",
       "0         Ohio  2022-2023  \n",
       "\n",
       "[1 rows x 36 columns]"
      ]
     },
     "execution_count": 37,
     "metadata": {},
     "output_type": "execute_result"
    },
    {
     "data": {
      "image/png": "[encoded data removed]",
      "text/plain": [
       "<Figure size 640x480 with 1 Axes>"
      ]
     },
     "metadata": {},
     "output_type": "display_data"
    }
   ],
   "source": [
    "plt.title('Salary Range in the NBA')\n",
    "sns.histplot(data=df1, x='SALARY')\n",
    "df1.loc[df1['SALARY'] == df1['SALARY'].max()]"
   ]
  },
  {
   "cell_type": "markdown",
   "metadata": {},
   "source": [
    "The Majority of the players in the data set make anywhere from 0-5 million dollars while NBA star stephen curry made the most money this season. The amount of money made by curry makes sense considering he was crowned champion and finals MVP the previous season"
   ]
  },
  {
   "cell_type": "markdown",
   "metadata": {},
   "source": [
    "## Question 1: Which NBA Player gives the most value for their salary"
   ]
  },
  {
   "cell_type": "markdown",
   "metadata": {},
   "source": [
    "Make a stat that captures multiple aspects that a player presents to a team:\n",
    "\n",
    "eFG + PTS + REBS + ASTS - TOV - PF + BLKS + STLS"
   ]
  },
  {
   "cell_type": "code",
   "execution_count": 38,
   "metadata": {},
   "outputs": [],
   "source": [
    "df1['value'] = df1['eFG%'] + df1['AST'] + df1['TRB'] + df1['PTS'] + df1['STL'] + df1['BLK'] - df1['PF'] - df1['TOV']"
   ]
  },
  {
   "cell_type": "code",
   "execution_count": 39,
   "metadata": {},
   "outputs": [],
   "source": [
    "df1['val_per_salary'] = df1['value'] / df1['SALARY']"
   ]
  },
  {
   "cell_type": "code",
   "execution_count": 40,
   "metadata": {},
   "outputs": [
    {
     "data": {
      "text/html": [
       "<div>\n",
       "<style scoped>\n",
       "    .dataframe tbody tr th:only-of-type {\n",
       "        vertical-align: middle;\n",
       "    }\n",
       "\n",
       "    .dataframe tbody tr th {\n",
       "        vertical-align: top;\n",
       "    }\n",
       "\n",
       "    .dataframe thead th {\n",
       "        text-align: right;\n",
       "    }\n",
       "</style>\n",
       "<table border=\"1\" class=\"dataframe\">\n",
       "  <thead>\n",
       "    <tr style=\"text-align: right;\">\n",
       "      <th></th>\n",
       "      <th>NAME</th>\n",
       "      <th>TEAM</th>\n",
       "      <th>POSITION</th>\n",
       "      <th>SALARY</th>\n",
       "      <th>Age</th>\n",
       "      <th>Tm</th>\n",
       "      <th>G</th>\n",
       "      <th>GS</th>\n",
       "      <th>MP</th>\n",
       "      <th>FG</th>\n",
       "      <th>...</th>\n",
       "      <th>TOV</th>\n",
       "      <th>PF</th>\n",
       "      <th>PTS</th>\n",
       "      <th>height</th>\n",
       "      <th>weight</th>\n",
       "      <th>birth_city</th>\n",
       "      <th>birth_state</th>\n",
       "      <th>Time</th>\n",
       "      <th>value</th>\n",
       "      <th>val_per_salary</th>\n",
       "    </tr>\n",
       "  </thead>\n",
       "  <tbody>\n",
       "    <tr>\n",
       "      <th>147</th>\n",
       "      <td>Kris Dunn</td>\n",
       "      <td>Utah Jazz</td>\n",
       "      <td>G</td>\n",
       "      <td>735819</td>\n",
       "      <td>28</td>\n",
       "      <td>UTA</td>\n",
       "      <td>22</td>\n",
       "      <td>3</td>\n",
       "      <td>25.8</td>\n",
       "      <td>5.3</td>\n",
       "      <td>...</td>\n",
       "      <td>1.6</td>\n",
       "      <td>2.6</td>\n",
       "      <td>13.2</td>\n",
       "      <td>193</td>\n",
       "      <td>95</td>\n",
       "      <td>New London</td>\n",
       "      <td>Connecticut</td>\n",
       "      <td>2022-2023</td>\n",
       "      <td>21.276</td>\n",
       "      <td>0.000029</td>\n",
       "    </tr>\n",
       "  </tbody>\n",
       "</table>\n",
       "<p>1 rows × 38 columns</p>\n",
       "</div>"
      ],
      "text/plain": [
       "          NAME       TEAM POSITION  SALARY  Age   Tm   G  GS    MP   FG  ...  \\\n",
       "147  Kris Dunn  Utah Jazz        G  735819   28  UTA  22   3  25.8  5.3  ...   \n",
       "\n",
       "     TOV   PF   PTS  height  weight  birth_city  birth_state       Time  \\\n",
       "147  1.6  2.6  13.2     193      95  New London  Connecticut  2022-2023   \n",
       "\n",
       "      value  val_per_salary  \n",
       "147  21.276        0.000029  \n",
       "\n",
       "[1 rows x 38 columns]"
      ]
     },
     "execution_count": 40,
     "metadata": {},
     "output_type": "execute_result"
    },
    {
     "data": {
      "image/png": "[encoded data removed]",
      "text/plain": [
       "<Figure size 640x480 with 1 Axes>"
      ]
     },
     "metadata": {},
     "output_type": "display_data"
    }
   ],
   "source": [
    "plt.title(\"Salary vs Value\")\n",
    "sns.scatterplot(data=df1, x='value', y='SALARY')\n",
    "df1.loc[df1['val_per_salary'] == df1['val_per_salary'].max()]"
   ]
  },
  {
   "cell_type": "markdown",
   "metadata": {},
   "source": [
    "It can be clearly be seen that the more value a player gives, the more they typically get played. However, the player that gave the most value to their team this year was Kris Dunn of the Utah Jazz."
   ]
  },
  {
   "cell_type": "markdown",
   "metadata": {},
   "source": [
    "## Question 2: Which player got the most pure buckets, and which player got the most fake buckets (free throws)"
   ]
  },
  {
   "cell_type": "markdown",
   "metadata": {},
   "source": [
    "To do this, I will take the players points and subtract the freethrows from it to see who had the most total points without freethrows. For fake buckets, I will do most freethrow attempts. To make this statistic more fair to lesser known players, I will make it so we can get their points per minute rather than just their total. The same thing will apply to freethrows as well."
   ]
  },
  {
   "cell_type": "code",
   "execution_count": 41,
   "metadata": {},
   "outputs": [
    {
     "data": {
      "text/html": [
       "<div>\n",
       "<style scoped>\n",
       "    .dataframe tbody tr th:only-of-type {\n",
       "        vertical-align: middle;\n",
       "    }\n",
       "\n",
       "    .dataframe tbody tr th {\n",
       "        vertical-align: top;\n",
       "    }\n",
       "\n",
       "    .dataframe thead th {\n",
       "        text-align: right;\n",
       "    }\n",
       "</style>\n",
       "<table border=\"1\" class=\"dataframe\">\n",
       "  <thead>\n",
       "    <tr style=\"text-align: right;\">\n",
       "      <th></th>\n",
       "      <th>NAME</th>\n",
       "      <th>TEAM</th>\n",
       "      <th>POSITION</th>\n",
       "      <th>SALARY</th>\n",
       "      <th>Age</th>\n",
       "      <th>Tm</th>\n",
       "      <th>G</th>\n",
       "      <th>GS</th>\n",
       "      <th>MP</th>\n",
       "      <th>FG</th>\n",
       "      <th>...</th>\n",
       "      <th>PTS</th>\n",
       "      <th>height</th>\n",
       "      <th>weight</th>\n",
       "      <th>birth_city</th>\n",
       "      <th>birth_state</th>\n",
       "      <th>Time</th>\n",
       "      <th>value</th>\n",
       "      <th>val_per_salary</th>\n",
       "      <th>pure_buckets</th>\n",
       "      <th>fake_buckets</th>\n",
       "    </tr>\n",
       "  </thead>\n",
       "  <tbody>\n",
       "    <tr>\n",
       "      <th>104</th>\n",
       "      <td>Ish Smith</td>\n",
       "      <td>Denver Nuggets</td>\n",
       "      <td>PG</td>\n",
       "      <td>4750000</td>\n",
       "      <td>34</td>\n",
       "      <td>DEN</td>\n",
       "      <td>43</td>\n",
       "      <td>0</td>\n",
       "      <td>9.3</td>\n",
       "      <td>1.2</td>\n",
       "      <td>...</td>\n",
       "      <td>2.5</td>\n",
       "      <td>183</td>\n",
       "      <td>79</td>\n",
       "      <td>Charlotte</td>\n",
       "      <td>North Carolina</td>\n",
       "      <td>2022-2023</td>\n",
       "      <td>5.105</td>\n",
       "      <td>0.000001</td>\n",
       "      <td>0.268817</td>\n",
       "      <td>0.0</td>\n",
       "    </tr>\n",
       "  </tbody>\n",
       "</table>\n",
       "<p>1 rows × 40 columns</p>\n",
       "</div>"
      ],
      "text/plain": [
       "          NAME            TEAM POSITION   SALARY  Age   Tm   G  GS   MP   FG  \\\n",
       "104  Ish Smith  Denver Nuggets       PG  4750000   34  DEN  43   0  9.3  1.2   \n",
       "\n",
       "     ...  PTS  height  weight  birth_city     birth_state       Time  value  \\\n",
       "104  ...  2.5     183      79   Charlotte  North Carolina  2022-2023  5.105   \n",
       "\n",
       "     val_per_salary  pure_buckets  fake_buckets  \n",
       "104        0.000001      0.268817           0.0  \n",
       "\n",
       "[1 rows x 40 columns]"
      ]
     },
     "execution_count": 41,
     "metadata": {},
     "output_type": "execute_result"
    }
   ],
   "source": [
    "df1['pure_buckets'] = (df1['PTS'] / df1['MP']) - (df1['FT']/df1['MP'])\n",
    "df1['fake_buckets'] = (df1['FT']/df1['MP'])\n",
    "df1.loc[df1['pure_buckets'] == df1['pure_buckets'].max()]\n",
    "df1.loc[df1['fake_buckets'] == df1['fake_buckets'].min()]"
   ]
  },
  {
   "cell_type": "code",
   "execution_count": 42,
   "metadata": {},
   "outputs": [
    {
     "data": {
      "text/plain": [
       "<Axes: title={'center': 'Pure Buckets Graph'}, xlabel='pure_buckets', ylabel='Count'>"
      ]
     },
     "execution_count": 42,
     "metadata": {},
     "output_type": "execute_result"
    },
    {
     "data": {
      "image/png": "[encoded data removed]",
      "text/plain": [
       "<Figure size 640x480 with 1 Axes>"
      ]
     },
     "metadata": {},
     "output_type": "display_data"
    }
   ],
   "source": [
    "# Graph of Pure buckets\n",
    "plt.title(\"Pure Buckets Graph\")\n",
    "sns.histplot(data=df1, x='pure_buckets')"
   ]
  },
  {
   "cell_type": "markdown",
   "metadata": {},
   "source": [
    "As can be seen, there is a pretty steep fall off at close to 0.6 pure buckets per minute"
   ]
  },
  {
   "cell_type": "markdown",
   "metadata": {},
   "source": [
    "## Question 3: Who was the biggest Menace in the NBA"
   ]
  },
  {
   "cell_type": "markdown",
   "metadata": {},
   "source": [
    "To figure this out, I will take the amount of personal fouls a player had and add it to purely defensive stats, then I will subtract their points and assits as those do not qualify as menacing stats and we want the most menacing player possible."
   ]
  },
  {
   "cell_type": "code",
   "execution_count": 43,
   "metadata": {},
   "outputs": [
    {
     "data": {
      "text/html": [
       "<div>\n",
       "<style scoped>\n",
       "    .dataframe tbody tr th:only-of-type {\n",
       "        vertical-align: middle;\n",
       "    }\n",
       "\n",
       "    .dataframe tbody tr th {\n",
       "        vertical-align: top;\n",
       "    }\n",
       "\n",
       "    .dataframe thead th {\n",
       "        text-align: right;\n",
       "    }\n",
       "</style>\n",
       "<table border=\"1\" class=\"dataframe\">\n",
       "  <thead>\n",
       "    <tr style=\"text-align: right;\">\n",
       "      <th></th>\n",
       "      <th>NAME</th>\n",
       "      <th>TEAM</th>\n",
       "      <th>POSITION</th>\n",
       "      <th>SALARY</th>\n",
       "      <th>Age</th>\n",
       "      <th>Tm</th>\n",
       "      <th>G</th>\n",
       "      <th>GS</th>\n",
       "      <th>MP</th>\n",
       "      <th>FG</th>\n",
       "      <th>...</th>\n",
       "      <th>height</th>\n",
       "      <th>weight</th>\n",
       "      <th>birth_city</th>\n",
       "      <th>birth_state</th>\n",
       "      <th>Time</th>\n",
       "      <th>value</th>\n",
       "      <th>val_per_salary</th>\n",
       "      <th>pure_buckets</th>\n",
       "      <th>fake_buckets</th>\n",
       "      <th>most_menacing</th>\n",
       "    </tr>\n",
       "  </thead>\n",
       "  <tbody>\n",
       "    <tr>\n",
       "      <th>54</th>\n",
       "      <td>Steven Adams</td>\n",
       "      <td>Memphis Grizzlies</td>\n",
       "      <td>C</td>\n",
       "      <td>17926829</td>\n",
       "      <td>29</td>\n",
       "      <td>MEM</td>\n",
       "      <td>42</td>\n",
       "      <td>42</td>\n",
       "      <td>27.0</td>\n",
       "      <td>3.7</td>\n",
       "      <td>...</td>\n",
       "      <td>213</td>\n",
       "      <td>115</td>\n",
       "      <td>Rotorua</td>\n",
       "      <td>New Zealand</td>\n",
       "      <td>2022-2023</td>\n",
       "      <td>20.797</td>\n",
       "      <td>0.000001</td>\n",
       "      <td>0.277778</td>\n",
       "      <td>0.040741</td>\n",
       "      <td>7.2</td>\n",
       "    </tr>\n",
       "  </tbody>\n",
       "</table>\n",
       "<p>1 rows × 41 columns</p>\n",
       "</div>"
      ],
      "text/plain": [
       "            NAME               TEAM POSITION    SALARY  Age   Tm   G  GS  \\\n",
       "54  Steven Adams  Memphis Grizzlies        C  17926829   29  MEM  42  42   \n",
       "\n",
       "      MP   FG  ...  height  weight  birth_city  birth_state       Time  \\\n",
       "54  27.0  3.7  ...     213     115     Rotorua  New Zealand  2022-2023   \n",
       "\n",
       "     value  val_per_salary  pure_buckets  fake_buckets  most_menacing  \n",
       "54  20.797        0.000001      0.277778      0.040741            7.2  \n",
       "\n",
       "[1 rows x 41 columns]"
      ]
     },
     "execution_count": 43,
     "metadata": {},
     "output_type": "execute_result"
    }
   ],
   "source": [
    "df1['most_menacing'] = df1['PF'] + df1['STL'] + df1['BLK'] + df1['TRB'] - df1['PTS']\n",
    "df1.loc[df1['most_menacing'] == df1['most_menacing'].max()]"
   ]
  },
  {
   "cell_type": "code",
   "execution_count": 44,
   "metadata": {},
   "outputs": [
    {
     "data": {
      "text/plain": [
       "<Axes: title={'center': 'NBA Menaces'}, xlabel='most_menacing', ylabel='Count'>"
      ]
     },
     "execution_count": 44,
     "metadata": {},
     "output_type": "execute_result"
    },
    {
     "data": {
      "image/png": "[encoded data removed]",
      "text/plain": [
       "<Figure size 640x480 with 1 Axes>"
      ]
     },
     "metadata": {},
     "output_type": "display_data"
    }
   ],
   "source": [
    "# Menace Graph\n",
    "plt.title(\"NBA Menaces\")\n",
    "sns.histplot(data=df1, x='most_menacing')"
   ]
  }
 ],
 "metadata": {
  "kernelspec": {
   "display_name": ".venv",
   "language": "python",
   "name": "python3"
  },
  "language_info": {
   "codemirror_mode": {
    "name": "ipython",
    "version": 3
   },
   "file_extension": ".py",
   "mimetype": "text/x-python",
   "name": "python",
   "nbconvert_exporter": "python",
   "pygments_lexer": "ipython3",
   "version": "3.9.6"
  },
  "orig_nbformat": 4
 },
 "nbformat": 4,
 "nbformat_minor": 2
}
